{
 "cells": [
  {
   "cell_type": "markdown",
   "id": "6258be01-1796-4d46-84b7-9f44e5251f99",
   "metadata": {},
   "source": [
    "# Exemple de documentació del Procés de Recol·lecció de Dades per al Projecte de Predicció contractació d’un depòsit bancari"
   ]
  },
  {
   "cell_type": "markdown",
   "id": "08ec43a2-f728-453c-815e-92f48c1d6bad",
   "metadata": {},
   "source": [
    "## 1. Fonts"
   ]
  },
  {
   "cell_type": "markdown",
   "id": "c2520313-2a33-4f58-b562-3d608a668d20",
   "metadata": {},
   "source": [
    "### Identificació de Fonts:"
   ]
  },
  {
   "cell_type": "markdown",
   "id": "17497a45-275b-473f-a487-21aa77c2eda5",
   "metadata": {},
   "source": [
    "- •\tÉs una base de dades obtinguda a través d’enquestes."
   ]
  },
  {
   "cell_type": "markdown",
   "id": "2312860e-a899-4f60-b7e3-3ba3ecd02624",
   "metadata": {},
   "source": [
    "### Descripció de les Fonts:\n",
    "- •\tLa base de dades conté les respostes a una sèrie de preguntes demogràfiques (situació laboral, ingressos, estat civil o familiar, nivell d’educació, etc.) i relatives al producte realitzades a clients de la institució financera"
   ]
  },
  {
   "cell_type": "markdown",
   "id": "1ee281e8-b17a-453c-a7d2-ba465f6db010",
   "metadata": {},
   "source": [
    "## 2. Mètodes de recol·lecció de dades"
   ]
  },
  {
   "cell_type": "markdown",
   "id": "5a3c7b39-7dc0-435b-84c9-5a32862795f7",
   "metadata": {},
   "source": [
    "### Procediments i Eines:"
   ]
  },
  {
   "cell_type": "markdown",
   "id": "71516719-aa82-4e28-8d69-61b598907652",
   "metadata": {},
   "source": [
    "- •\tExportació programada de les respostes en format CSV, emmagatzemada en un repositori de GitHub per crear l’algoritme de classificació. Aquesta tasca la fa el departament d'IT."
   ]
  },
  {
   "cell_type": "markdown",
   "id": "0b5f859d-f96c-4751-a9f2-bdb5fcf079f2",
   "metadata": {},
   "source": [
    "### Freqüència de Recol·lecció:"
   ]
  },
  {
   "cell_type": "markdown",
   "id": "db6610e7-599b-4159-930c-e3edc75e81fa",
   "metadata": {},
   "source": [
    "- •\tEs realitzarà un cop, quan es tinguin les respostes de la mostra desitjada."
   ]
  },
  {
   "cell_type": "markdown",
   "id": "f7cf890a-b8e7-4bca-b03d-d626217f5f8c",
   "metadata": {},
   "source": [
    "### Scripts de Descàrrega:"
   ]
  },
  {
   "cell_type": "markdown",
   "id": "2d2ab8cd-7116-422b-8728-6fcd2170d34c",
   "metadata": {},
   "source": [
    "import pandas as pd\n",
    "\n",
    "csv_url = \"https://github.com/ITACADEMYprojectes/projecteML/blob/e8d1aab0a24ddf55af9dfd9e83b1ea79e34c1af9/bank_dataset.CSV\"\n",
    "df = pd.read_csv(csv_url)\n",
    "print(df.info())\n"
   ]
  },
  {
   "cell_type": "markdown",
   "id": "2ff21c3c-bd32-4bfb-b1f3-2dce088de2b2",
   "metadata": {},
   "source": [
    "## 3. Format i Estructura de les Dades"
   ]
  },
  {
   "cell_type": "markdown",
   "id": "75177555-e48d-4575-8047-f0a5aa0a3dfa",
   "metadata": {},
   "source": [
    "### Tipus de Dades:"
   ]
  },
  {
   "cell_type": "markdown",
   "id": "1d672981-40ef-4820-beb3-57f05e06416c",
   "metadata": {},
   "source": [
    "•\tNumèrics: edat,  mitjana de saldo al banc,  durada del contacte, números de contacte a la campanya, nombre de dies que han passat des que el client va ser contactat per última vegada, nombre de contactes previs.\n",
    "•\tCategòric: treball (ocupació), situació civil, educació, tipus de contacte\n",
    "•\tBinaris: existència de deutes (default), hipoteca, préstecs, resultat de la campanya, contractació o no del dipòsit.\n",
    "•\tData: dia de contacte de la setmana, mes en què es va contactar per darrera vegada.\n"
   ]
  },
  {
   "cell_type": "markdown",
   "id": "fb5e35eb-8b20-414f-a211-0e725e157de1",
   "metadata": {},
   "source": [
    "### Format d'Emmagatzematge:"
   ]
  },
  {
   "cell_type": "markdown",
   "id": "62fcf6b8-0a3b-40ea-a666-a243abedb979",
   "metadata": {},
   "source": [
    "- •\tDades tabulars emmagatzemades en fitxer csv. "
   ]
  },
  {
   "cell_type": "markdown",
   "id": "4267db88-9eea-46b8-a02c-9f248c6c61db",
   "metadata": {},
   "source": [
    "## 4. Limitacions de les dades"
   ]
  },
  {
   "cell_type": "markdown",
   "id": "fb339165-87b2-4901-be41-d61fe6869141",
   "metadata": {},
   "source": [
    "- •\tLes dades estan obtingudes mitjançant trucades telefòniques a un telèfon fixe o mòbil, cosa que limita la obtenció de resultats; es podrien enviar les enquestes per correu electrònic o mitjançant alguna aplicació que les fes segures."
   ]
  },
  {
   "cell_type": "markdown",
   "id": "9f34d43b-a2af-4904-b021-28c787951acd",
   "metadata": {},
   "source": [
    "## 5. Consideracions sobre Dades Sensibles"
   ]
  },
  {
   "cell_type": "markdown",
   "id": "425aaa8d-d7bc-42a1-97d7-6f56038534de",
   "metadata": {},
   "source": [
    "### Tipus de Dades Sensibles:"
   ]
  },
  {
   "cell_type": "markdown",
   "id": "1226428f-049e-4fce-9478-4eb659dbd479",
   "metadata": {},
   "source": [
    "- •\tInformació Personal Identificable (PII): edat, treball (ocupació), situació civil, educació.\n",
    "- •\tInformació Financera Sensible: existència de deutes (default), hipoteca, préstecs, mitjana de saldo al banc.\n",
    "- •\tDades comportamentals sensibles: resultat de la campanya, contractació o no de el dipòsit.\n",
    "\n"
   ]
  },
  {
   "cell_type": "markdown",
   "id": "c7db6377-5628-4493-947d-e85d21ca70f5",
   "metadata": {},
   "source": [
    "### Mesures de Protecció:"
   ]
  },
  {
   "cell_type": "markdown",
   "id": "e82c15d4-b7ab-42a8-8216-83bf95da8a7a",
   "metadata": {},
   "source": [
    "- •\tAnonimització i Pseudonimització:\n",
    "- + o\tS’aplicarà la generalització per registrar l’edat; en comptes d’obtenir un nombre sencer, tindrem un interval.\n",
    "- + o\tS’aplicarà la tècnica de pertorbació que inclou soroll aleatori a la mitjana de saldo al compte bancari, afegint una petita quantitat per defensar la privacitat.\n",
    "- •\tAccés Restringit:\n",
    "- + o\tAccés a dades sensibles restringit només a personal autoritzat amb necessitat de conèixer aquestes dades per a fins específics del projecte.\n",
    "- •\tCompliment de Regulacions:\n",
    "- + o\tCompliment amb la GDRP i la LOPD.\n"
   ]
  },
  {
   "cell_type": "code",
   "execution_count": null,
   "id": "2ad710a5-6e8f-4155-923a-3cc0ba2042dc",
   "metadata": {},
   "outputs": [],
   "source": []
  },
  {
   "cell_type": "code",
   "execution_count": null,
   "id": "23736647-7d83-4aa7-a639-0c5644aa73ae",
   "metadata": {},
   "outputs": [],
   "source": []
  },
  {
   "cell_type": "code",
   "execution_count": 40,
   "id": "575f3362-f08c-41e3-9e67-315ef44e47c6",
   "metadata": {},
   "outputs": [],
   "source": []
  },
  {
   "cell_type": "code",
   "execution_count": null,
   "id": "f80688d1-4e4e-486b-8157-d4a16d342846",
   "metadata": {},
   "outputs": [],
   "source": []
  }
 ],
 "metadata": {
  "kernelspec": {
   "display_name": "Python 3 (ipykernel)",
   "language": "python",
   "name": "python3"
  },
  "language_info": {
   "codemirror_mode": {
    "name": "ipython",
    "version": 3
   },
   "file_extension": ".py",
   "mimetype": "text/x-python",
   "name": "python",
   "nbconvert_exporter": "python",
   "pygments_lexer": "ipython3",
   "version": "3.12.7"
  }
 },
 "nbformat": 4,
 "nbformat_minor": 5
}
