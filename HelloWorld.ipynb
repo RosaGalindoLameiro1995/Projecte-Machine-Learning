{
 "cells": [
  {
   "cell_type": "markdown",
   "id": "6b2a1a3a-a71d-4a42-9496-eef5c90b6759",
   "metadata": {},
   "source": [
    "print(\"Hello world\");\n",
    "Me llamo Rosa Galindo Lameiro."
   ]
  },
  {
   "cell_type": "markdown",
   "id": "819aab4b-1180-42f4-a4e9-712d1be2e186",
   "metadata": {},
   "source": [
    "# Presentación\n",
    "## Esto es un título más pequeño"
   ]
  },
  {
   "cell_type": "markdown",
   "id": "ac665ee0-e7e9-40d4-bd31-21643ede232e",
   "metadata": {},
   "source": [
    "Vamos a crear listas.\n"
   ]
  },
  {
   "cell_type": "markdown",
   "id": "655418b7-8cf0-4d43-98a1-6c250c9f69a5",
   "metadata": {},
   "source": [
    "- Uno\n",
    "- Dos\n",
    "- Tres\n",
    "- Elemento cuatro"
   ]
  },
  {
   "cell_type": "markdown",
   "id": "deb56995-d65b-4db4-adb7-36775301ce32",
   "metadata": {},
   "source": [
    "Probamos estilos de letra\n"
   ]
  },
  {
   "cell_type": "markdown",
   "id": "67844d62-bd0a-4401-88d3-b35b8df4f271",
   "metadata": {},
   "source": [
    "*Este texto va a estar en cursiva*\n",
    "**Este texto está en negrita**\n",
    "***Este texto combina los dos estilos*** \n"
   ]
  },
  {
   "cell_type": "markdown",
   "id": "6b9eb554-4308-4967-bba5-0592fd9c24db",
   "metadata": {},
   "source": [
    "Añadimos imágenes "
   ]
  },
  {
   "cell_type": "markdown",
   "id": "1f2ec9a3-b8fc-4b95-b337-4110bbbb6d3f",
   "metadata": {},
   "source": [
    "![Imagen de un buen anime](https://img.goodfon.com/original/2560x1440/a/4d/demon-slayer-kimetsu-no-yaiba-nezuko-kamado-klinok-rassekaiu.jpg)"
   ]
  },
  {
   "cell_type": "markdown",
   "id": "9dd51920-b511-4ed2-b5b6-f74bcf1331f4",
   "metadata": {},
   "source": [
    "Hacemos cálculos sencillos"
   ]
  },
  {
   "cell_type": "markdown",
   "id": "15ff8b22-26e6-4006-b97c-d33259d3a4d0",
   "metadata": {},
   "source": [
    "Suma"
   ]
  },
  {
   "cell_type": "code",
   "execution_count": 1,
   "id": "6e362905-bfb1-41a6-9500-cc33b941d909",
   "metadata": {},
   "outputs": [
    {
     "data": {
      "text/plain": [
       "11"
      ]
     },
     "execution_count": 1,
     "metadata": {},
     "output_type": "execute_result"
    }
   ],
   "source": [
    "1 + 10\n"
   ]
  },
  {
   "cell_type": "markdown",
   "id": "810479db-9962-4dc1-8290-e93b715cabbd",
   "metadata": {},
   "source": [
    "### Resta "
   ]
  },
  {
   "cell_type": "code",
   "execution_count": 2,
   "id": "7749911f-e40a-49f0-9896-c7ba5d8697a0",
   "metadata": {},
   "outputs": [
    {
     "data": {
      "text/plain": [
       "20"
      ]
     },
     "execution_count": 2,
     "metadata": {},
     "output_type": "execute_result"
    }
   ],
   "source": [
    "30 - 10"
   ]
  },
  {
   "cell_type": "markdown",
   "id": "3cbcb71b-3717-4a6f-abe9-044b9383e11d",
   "metadata": {},
   "source": [
    "#### Multiplicaciones y divisiones"
   ]
  },
  {
   "cell_type": "code",
   "execution_count": 3,
   "id": "4d364e3b-6ec2-49f5-894d-02590c362358",
   "metadata": {},
   "outputs": [
    {
     "data": {
      "text/plain": [
       "12"
      ]
     },
     "execution_count": 3,
     "metadata": {},
     "output_type": "execute_result"
    }
   ],
   "source": [
    "3 *4 "
   ]
  },
  {
   "cell_type": "code",
   "execution_count": 4,
   "id": "f041171e-05a7-4500-bfb3-7e932e02c0d8",
   "metadata": {},
   "outputs": [
    {
     "data": {
      "text/plain": [
       "2.0"
      ]
     },
     "execution_count": 4,
     "metadata": {},
     "output_type": "execute_result"
    }
   ],
   "source": [
    "6 / 3"
   ]
  },
  {
   "cell_type": "code",
   "execution_count": 5,
   "id": "38807346-afbb-476b-851d-5c6ee9a80308",
   "metadata": {},
   "outputs": [
    {
     "data": {
      "text/plain": [
       "9"
      ]
     },
     "execution_count": 5,
     "metadata": {},
     "output_type": "execute_result"
    }
   ],
   "source": [
    "3 ** 2"
   ]
  },
  {
   "cell_type": "code",
   "execution_count": 10,
   "id": "1461f2f5-a69f-4241-87bc-76f2c60c22a9",
   "metadata": {},
   "outputs": [],
   "source": [
    "vari = 10 + 5"
   ]
  },
  {
   "cell_type": "code",
   "execution_count": 11,
   "id": "cdd58aff-b842-4e1c-9582-781da2c8dcb8",
   "metadata": {},
   "outputs": [
    {
     "data": {
      "text/plain": [
       "15"
      ]
     },
     "execution_count": 11,
     "metadata": {},
     "output_type": "execute_result"
    }
   ],
   "source": [
    "vari "
   ]
  },
  {
   "cell_type": "code",
   "execution_count": null,
   "id": "bf3e1757-80bc-4fe3-b103-feb9bd77f9aa",
   "metadata": {},
   "outputs": [],
   "source": []
  }
 ],
 "metadata": {
  "kernelspec": {
   "display_name": "Python 3 (ipykernel)",
   "language": "python",
   "name": "python3"
  },
  "language_info": {
   "codemirror_mode": {
    "name": "ipython",
    "version": 3
   },
   "file_extension": ".py",
   "mimetype": "text/x-python",
   "name": "python",
   "nbconvert_exporter": "python",
   "pygments_lexer": "ipython3",
   "version": "3.12.7"
  }
 },
 "nbformat": 4,
 "nbformat_minor": 5
}
