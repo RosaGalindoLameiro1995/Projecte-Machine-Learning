{
 "cells": [
  {
   "cell_type": "markdown",
   "id": "f7dcb7f5-0237-4f88-8648-29e23b2d9679",
   "metadata": {},
   "source": [
    "# Anàlisi exploratòria de dades"
   ]
  },
  {
   "cell_type": "markdown",
   "id": "fb9da6c9-5335-4316-a1e7-992290bf7f66",
   "metadata": {},
   "source": [
    "## Importació de les biblioteques"
   ]
  },
  {
   "cell_type": "code",
   "execution_count": 210,
   "id": "c6f4ade3-ddf0-41f6-aaf2-bbd1a9a31dc9",
   "metadata": {},
   "outputs": [
    {
     "name": "stdout",
     "output_type": "stream",
     "text": [
      "Requirement already satisfied: sweetviz in g:\\programas\\anaconda\\lib\\site-packages (2.3.1)\n",
      "Requirement already satisfied: pandas!=1.0.0,!=1.0.1,!=1.0.2,>=0.25.3 in g:\\programas\\anaconda\\lib\\site-packages (from sweetviz) (2.2.2)\n",
      "Requirement already satisfied: numpy>=1.16.0 in g:\\programas\\anaconda\\lib\\site-packages (from sweetviz) (1.26.4)\n",
      "Requirement already satisfied: matplotlib>=3.1.3 in g:\\programas\\anaconda\\lib\\site-packages (from sweetviz) (3.9.2)\n",
      "Requirement already satisfied: tqdm>=4.43.0 in g:\\programas\\anaconda\\lib\\site-packages (from sweetviz) (4.66.5)\n",
      "Requirement already satisfied: scipy>=1.3.2 in g:\\programas\\anaconda\\lib\\site-packages (from sweetviz) (1.13.1)\n",
      "Requirement already satisfied: jinja2>=2.11.1 in g:\\programas\\anaconda\\lib\\site-packages (from sweetviz) (3.1.4)\n",
      "Requirement already satisfied: importlib-resources>=1.2.0 in g:\\programas\\anaconda\\lib\\site-packages (from sweetviz) (6.4.5)\n",
      "Requirement already satisfied: MarkupSafe>=2.0 in g:\\programas\\anaconda\\lib\\site-packages (from jinja2>=2.11.1->sweetviz) (2.1.3)\n",
      "Requirement already satisfied: contourpy>=1.0.1 in g:\\programas\\anaconda\\lib\\site-packages (from matplotlib>=3.1.3->sweetviz) (1.2.0)\n",
      "Requirement already satisfied: cycler>=0.10 in g:\\programas\\anaconda\\lib\\site-packages (from matplotlib>=3.1.3->sweetviz) (0.11.0)\n",
      "Requirement already satisfied: fonttools>=4.22.0 in g:\\programas\\anaconda\\lib\\site-packages (from matplotlib>=3.1.3->sweetviz) (4.51.0)\n",
      "Requirement already satisfied: kiwisolver>=1.3.1 in g:\\programas\\anaconda\\lib\\site-packages (from matplotlib>=3.1.3->sweetviz) (1.4.4)\n",
      "Requirement already satisfied: packaging>=20.0 in g:\\programas\\anaconda\\lib\\site-packages (from matplotlib>=3.1.3->sweetviz) (24.1)\n",
      "Requirement already satisfied: pillow>=8 in g:\\programas\\anaconda\\lib\\site-packages (from matplotlib>=3.1.3->sweetviz) (10.4.0)\n",
      "Requirement already satisfied: pyparsing>=2.3.1 in g:\\programas\\anaconda\\lib\\site-packages (from matplotlib>=3.1.3->sweetviz) (3.1.2)\n",
      "Requirement already satisfied: python-dateutil>=2.7 in g:\\programas\\anaconda\\lib\\site-packages (from matplotlib>=3.1.3->sweetviz) (2.9.0.post0)\n",
      "Requirement already satisfied: pytz>=2020.1 in g:\\programas\\anaconda\\lib\\site-packages (from pandas!=1.0.0,!=1.0.1,!=1.0.2,>=0.25.3->sweetviz) (2024.1)\n",
      "Requirement already satisfied: tzdata>=2022.7 in g:\\programas\\anaconda\\lib\\site-packages (from pandas!=1.0.0,!=1.0.1,!=1.0.2,>=0.25.3->sweetviz) (2023.3)\n",
      "Requirement already satisfied: colorama in g:\\programas\\anaconda\\lib\\site-packages (from tqdm>=4.43.0->sweetviz) (0.4.6)\n",
      "Requirement already satisfied: six>=1.5 in g:\\programas\\anaconda\\lib\\site-packages (from python-dateutil>=2.7->matplotlib>=3.1.3->sweetviz) (1.16.0)\n"
     ]
    }
   ],
   "source": [
    "import pandas as pd\n",
    "import numpy as np\n",
    "import matplotlib.pyplot as plt\n",
    "import seaborn as sns\n",
    "!pip install sweetviz\n",
    "import sweetviz as sv"
   ]
  },
  {
   "cell_type": "markdown",
   "id": "eacb1bde-62cb-446a-90c8-69865eb2cec8",
   "metadata": {},
   "source": [
    "### Importació de les dades i mostra d'informació rellevant d'aquestes."
   ]
  },
  {
   "cell_type": "code",
   "execution_count": 212,
   "id": "0fc7a6dd-b89b-42a5-9b3e-85014338105e",
   "metadata": {},
   "outputs": [],
   "source": [
    "df = pd.read_csv('bank_dataset.csv')\n"
   ]
  },
  {
   "cell_type": "code",
   "execution_count": 213,
   "id": "0bef161e-648b-477a-85a5-26348bbe514a",
   "metadata": {},
   "outputs": [
    {
     "data": {
      "text/html": [
       "<div>\n",
       "<style scoped>\n",
       "    .dataframe tbody tr th:only-of-type {\n",
       "        vertical-align: middle;\n",
       "    }\n",
       "\n",
       "    .dataframe tbody tr th {\n",
       "        vertical-align: top;\n",
       "    }\n",
       "\n",
       "    .dataframe thead th {\n",
       "        text-align: right;\n",
       "    }\n",
       "</style>\n",
       "<table border=\"1\" class=\"dataframe\">\n",
       "  <thead>\n",
       "    <tr style=\"text-align: right;\">\n",
       "      <th></th>\n",
       "      <th>age</th>\n",
       "      <th>job</th>\n",
       "      <th>marital</th>\n",
       "      <th>education</th>\n",
       "      <th>default</th>\n",
       "      <th>balance</th>\n",
       "      <th>housing</th>\n",
       "      <th>loan</th>\n",
       "      <th>contact</th>\n",
       "      <th>day</th>\n",
       "      <th>month</th>\n",
       "      <th>duration</th>\n",
       "      <th>campaign</th>\n",
       "      <th>pdays</th>\n",
       "      <th>previous</th>\n",
       "      <th>poutcome</th>\n",
       "      <th>deposit</th>\n",
       "    </tr>\n",
       "  </thead>\n",
       "  <tbody>\n",
       "    <tr>\n",
       "      <th>0</th>\n",
       "      <td>59.0</td>\n",
       "      <td>admin.</td>\n",
       "      <td>married</td>\n",
       "      <td>secondary</td>\n",
       "      <td>no</td>\n",
       "      <td>2343</td>\n",
       "      <td>yes</td>\n",
       "      <td>no</td>\n",
       "      <td>unknown</td>\n",
       "      <td>5</td>\n",
       "      <td>may</td>\n",
       "      <td>1042</td>\n",
       "      <td>1</td>\n",
       "      <td>-1</td>\n",
       "      <td>0</td>\n",
       "      <td>unknown</td>\n",
       "      <td>yes</td>\n",
       "    </tr>\n",
       "    <tr>\n",
       "      <th>1</th>\n",
       "      <td>56.0</td>\n",
       "      <td>admin.</td>\n",
       "      <td>married</td>\n",
       "      <td>secondary</td>\n",
       "      <td>no</td>\n",
       "      <td>45</td>\n",
       "      <td>no</td>\n",
       "      <td>no</td>\n",
       "      <td>unknown</td>\n",
       "      <td>5</td>\n",
       "      <td>may</td>\n",
       "      <td>1467</td>\n",
       "      <td>1</td>\n",
       "      <td>-1</td>\n",
       "      <td>0</td>\n",
       "      <td>unknown</td>\n",
       "      <td>yes</td>\n",
       "    </tr>\n",
       "    <tr>\n",
       "      <th>2</th>\n",
       "      <td>41.0</td>\n",
       "      <td>technician</td>\n",
       "      <td>married</td>\n",
       "      <td>secondary</td>\n",
       "      <td>no</td>\n",
       "      <td>1270</td>\n",
       "      <td>yes</td>\n",
       "      <td>no</td>\n",
       "      <td>unknown</td>\n",
       "      <td>5</td>\n",
       "      <td>may</td>\n",
       "      <td>1389</td>\n",
       "      <td>1</td>\n",
       "      <td>-1</td>\n",
       "      <td>0</td>\n",
       "      <td>unknown</td>\n",
       "      <td>yes</td>\n",
       "    </tr>\n",
       "    <tr>\n",
       "      <th>3</th>\n",
       "      <td>55.0</td>\n",
       "      <td>services</td>\n",
       "      <td>married</td>\n",
       "      <td>secondary</td>\n",
       "      <td>no</td>\n",
       "      <td>2476</td>\n",
       "      <td>yes</td>\n",
       "      <td>no</td>\n",
       "      <td>unknown</td>\n",
       "      <td>5</td>\n",
       "      <td>may</td>\n",
       "      <td>579</td>\n",
       "      <td>1</td>\n",
       "      <td>-1</td>\n",
       "      <td>0</td>\n",
       "      <td>unknown</td>\n",
       "      <td>yes</td>\n",
       "    </tr>\n",
       "    <tr>\n",
       "      <th>4</th>\n",
       "      <td>54.0</td>\n",
       "      <td>admin.</td>\n",
       "      <td>married</td>\n",
       "      <td>tertiary</td>\n",
       "      <td>no</td>\n",
       "      <td>184</td>\n",
       "      <td>no</td>\n",
       "      <td>no</td>\n",
       "      <td>unknown</td>\n",
       "      <td>5</td>\n",
       "      <td>may</td>\n",
       "      <td>673</td>\n",
       "      <td>2</td>\n",
       "      <td>-1</td>\n",
       "      <td>0</td>\n",
       "      <td>unknown</td>\n",
       "      <td>yes</td>\n",
       "    </tr>\n",
       "  </tbody>\n",
       "</table>\n",
       "</div>"
      ],
      "text/plain": [
       "    age         job  marital  education default  balance housing loan  \\\n",
       "0  59.0      admin.  married  secondary      no     2343     yes   no   \n",
       "1  56.0      admin.  married  secondary      no       45      no   no   \n",
       "2  41.0  technician  married  secondary      no     1270     yes   no   \n",
       "3  55.0    services  married  secondary      no     2476     yes   no   \n",
       "4  54.0      admin.  married   tertiary      no      184      no   no   \n",
       "\n",
       "   contact  day month  duration  campaign  pdays  previous poutcome deposit  \n",
       "0  unknown    5   may      1042         1     -1         0  unknown     yes  \n",
       "1  unknown    5   may      1467         1     -1         0  unknown     yes  \n",
       "2  unknown    5   may      1389         1     -1         0  unknown     yes  \n",
       "3  unknown    5   may       579         1     -1         0  unknown     yes  \n",
       "4  unknown    5   may       673         2     -1         0  unknown     yes  "
      ]
     },
     "execution_count": 213,
     "metadata": {},
     "output_type": "execute_result"
    }
   ],
   "source": [
    "df.head() #Mostrem els cinc primer registres de la mostra."
   ]
  },
  {
   "cell_type": "markdown",
   "id": "ffaa59c0-df0e-4460-8cbb-d6ecfa867699",
   "metadata": {},
   "source": [
    "## Manejar valors faltants i outliers"
   ]
  },
  {
   "cell_type": "code",
   "execution_count": 215,
   "id": "526f7a61-aa60-478d-afe0-820441e1c9ff",
   "metadata": {},
   "outputs": [
    {
     "name": "stdout",
     "output_type": "stream",
     "text": [
      "<class 'pandas.core.frame.DataFrame'>\n",
      "RangeIndex: 11162 entries, 0 to 11161\n",
      "Data columns (total 17 columns):\n",
      " #   Column     Non-Null Count  Dtype  \n",
      "---  ------     --------------  -----  \n",
      " 0   age        11152 non-null  float64\n",
      " 1   job        11162 non-null  object \n",
      " 2   marital    11157 non-null  object \n",
      " 3   education  11155 non-null  object \n",
      " 4   default    11162 non-null  object \n",
      " 5   balance    11162 non-null  int64  \n",
      " 6   housing    11162 non-null  object \n",
      " 7   loan       11162 non-null  object \n",
      " 8   contact    11162 non-null  object \n",
      " 9   day        11162 non-null  int64  \n",
      " 10  month      11162 non-null  object \n",
      " 11  duration   11162 non-null  int64  \n",
      " 12  campaign   11162 non-null  int64  \n",
      " 13  pdays      11162 non-null  int64  \n",
      " 14  previous   11162 non-null  int64  \n",
      " 15  poutcome   11162 non-null  object \n",
      " 16  deposit    11162 non-null  object \n",
      "dtypes: float64(1), int64(6), object(10)\n",
      "memory usage: 1.4+ MB\n"
     ]
    }
   ],
   "source": [
    "df.info()"
   ]
  },
  {
   "cell_type": "code",
   "execution_count": 216,
   "id": "82ace773-2125-4a3e-ba22-720ad9a464eb",
   "metadata": {
    "jupyter": {
     "source_hidden": true
    }
   },
   "outputs": [
    {
     "data": {
      "text/plain": [
       "age          10\n",
       "job           0\n",
       "marital       5\n",
       "education     7\n",
       "default       0\n",
       "balance       0\n",
       "housing       0\n",
       "loan          0\n",
       "contact       0\n",
       "day           0\n",
       "month         0\n",
       "duration      0\n",
       "campaign      0\n",
       "pdays         0\n",
       "previous      0\n",
       "poutcome      0\n",
       "deposit       0\n",
       "dtype: int64"
      ]
     },
     "execution_count": 216,
     "metadata": {},
     "output_type": "execute_result"
    }
   ],
   "source": [
    "df.isnull().sum() #Sabem els valors nuls que hi ha per cada columna i veiem que hi ha més a l'edat, la situació civil i el nivell educatiu"
   ]
  },
  {
   "cell_type": "markdown",
   "id": "8fe8e3b2-a053-48e6-9638-e5b873fdfe25",
   "metadata": {},
   "source": [
    "Com es tracta d'una mostra amb molts registres i hi ha pocs valors nuls, es podria optar pel mètode de caiguda de dades, que serveix per eliminar característiques perdudes. Concretament, eliminarem les observacions amb valors que tinguin nuls."
   ]
  },
  {
   "cell_type": "code",
   "execution_count": 223,
   "id": "9b4c88c5-a6fe-47db-b8c7-e3695f66780b",
   "metadata": {},
   "outputs": [
    {
     "data": {
      "text/plain": [
       "age          0\n",
       "job          0\n",
       "marital      0\n",
       "education    0\n",
       "default      0\n",
       "balance      0\n",
       "housing      0\n",
       "loan         0\n",
       "contact      0\n",
       "day          0\n",
       "month        0\n",
       "duration     0\n",
       "campaign     0\n",
       "pdays        0\n",
       "previous     0\n",
       "poutcome     0\n",
       "deposit      0\n",
       "dtype: int64"
      ]
     },
     "execution_count": 223,
     "metadata": {},
     "output_type": "execute_result"
    }
   ],
   "source": [
    "eliminados = df.dropna()\n",
    "eliminados.isnull().sum() #Realitzem la suma dels registres nulls i veiem que ja no hi ha."
   ]
  },
  {
   "cell_type": "code",
   "execution_count": 225,
   "id": "b27cce2f-42a4-4645-bcd5-baa8bbc48ea1",
   "metadata": {},
   "outputs": [
    {
     "name": "stdout",
     "output_type": "stream",
     "text": [
      "<class 'pandas.core.frame.DataFrame'>\n",
      "Index: 11140 entries, 0 to 11161\n",
      "Data columns (total 17 columns):\n",
      " #   Column     Non-Null Count  Dtype  \n",
      "---  ------     --------------  -----  \n",
      " 0   age        11140 non-null  float64\n",
      " 1   job        11140 non-null  object \n",
      " 2   marital    11140 non-null  object \n",
      " 3   education  11140 non-null  object \n",
      " 4   default    11140 non-null  object \n",
      " 5   balance    11140 non-null  int64  \n",
      " 6   housing    11140 non-null  object \n",
      " 7   loan       11140 non-null  object \n",
      " 8   contact    11140 non-null  object \n",
      " 9   day        11140 non-null  int64  \n",
      " 10  month      11140 non-null  object \n",
      " 11  duration   11140 non-null  int64  \n",
      " 12  campaign   11140 non-null  int64  \n",
      " 13  pdays      11140 non-null  int64  \n",
      " 14  previous   11140 non-null  int64  \n",
      " 15  poutcome   11140 non-null  object \n",
      " 16  deposit    11140 non-null  object \n",
      "dtypes: float64(1), int64(6), object(10)\n",
      "memory usage: 1.5+ MB\n"
     ]
    }
   ],
   "source": [
    "eliminados.info() #Tornem a obtenir la informació  de les nostres dades"
   ]
  },
  {
   "cell_type": "code",
   "execution_count": null,
   "id": "74d17ffb-2747-4d4d-b10b-d23265648765",
   "metadata": {},
   "outputs": [],
   "source": []
  },
  {
   "cell_type": "markdown",
   "id": "e5a589b4-8fcd-4f00-bc2c-e0740e49fd98",
   "metadata": {},
   "source": [
    "### Identificar característiques rellevants"
   ]
  },
  {
   "cell_type": "markdown",
   "id": "e0943089-f8e8-49e2-8cdc-c4651612e86b",
   "metadata": {},
   "source": [
    "Utilitzem el mètode de filtre per seleccionar les variables més rellevants del nostre model. Aquí es podria utilitzar la \n",
    "correlació de Pearson perquè les variables explicatives són numèriques o categòriques i la variable resultat numèrica si es recodifica.\n",
    "En aquest cas, hauríem de recodificar les variables categòriques i la variable resultat haurà de ser 0 \"no contractació\" i 1 \"contractació del dipòsit\". \n",
    "Com les dades no són nostres, es deixarà només el codi que s'hauria de fer servir.\n"
   ]
  },
  {
   "cell_type": "code",
   "execution_count": 236,
   "id": "a69d766c-4c90-4f23-adac-31ff46632440",
   "metadata": {},
   "outputs": [
    {
     "name": "stdout",
     "output_type": "stream",
     "text": [
      "               age   balance       day  duration  campaign     pdays  previous\n",
      "age       1.000000  0.112217 -0.000418  0.000139 -0.005358  0.002593  0.020060\n",
      "balance   0.112217  1.000000  0.010467  0.022436 -0.013894  0.017411  0.030805\n",
      "day      -0.000418  0.010467  1.000000 -0.018511  0.137007 -0.077232 -0.058981\n",
      "duration  0.000139  0.022436 -0.018511  1.000000 -0.041557 -0.027392 -0.026716\n",
      "campaign -0.005358 -0.013894  0.137007 -0.041557  1.000000 -0.102726 -0.049699\n",
      "pdays     0.002593  0.017411 -0.077232 -0.027392 -0.102726  1.000000  0.507272\n",
      "previous  0.020060  0.030805 -0.058981 -0.026716 -0.049699  0.507272  1.000000\n"
     ]
    }
   ],
   "source": [
    "# Calcular la matriu de correlació  amb les variables numèriques. Ens mostrarà la intensitat i la direcció de la relació entre les variables\n",
    "correlation = df.corr(numeric_only=True)\n",
    "print(correlation)"
   ]
  },
  {
   "cell_type": "code",
   "execution_count": null,
   "id": "5f7e7a0f-4019-4ac6-899e-3850f38de53c",
   "metadata": {},
   "outputs": [],
   "source": []
  },
  {
   "cell_type": "markdown",
   "id": "fd4bf08f-75a6-44d8-9763-06671127fff7",
   "metadata": {},
   "source": [
    "## Identificar outliers"
   ]
  },
  {
   "cell_type": "markdown",
   "id": "6369f24b-68f5-4cfd-8c27-522b464e77b0",
   "metadata": {},
   "source": [
    "S'utilitzarà la biblioteca seaborn per identificar valors atípics. Valorarem dues.\n"
   ]
  },
  {
   "cell_type": "code",
   "execution_count": 242,
   "id": "45f53f26-8572-4da1-821f-16f6ae783a6d",
   "metadata": {},
   "outputs": [
    {
     "data": {
      "text/plain": [
       "count    11152.000000\n",
       "mean        41.235384\n",
       "std         11.914934\n",
       "min         18.000000\n",
       "25%         32.000000\n",
       "50%         39.000000\n",
       "75%         49.000000\n",
       "max         95.000000\n",
       "Name: age, dtype: float64"
      ]
     },
     "execution_count": 242,
     "metadata": {},
     "output_type": "execute_result"
    }
   ],
   "source": [
    "df['age'].describe() #Analitxem la variable edat."
   ]
  },
  {
   "cell_type": "markdown",
   "id": "70ac9d42-d677-4c43-a483-116547c3d73a",
   "metadata": {},
   "source": [
    "La mitjana d'edat està en 41 i veiem que el màxim d'edat són 95, de manera que els valors atípics estaran més\n",
    "a prop d'aquest número."
   ]
  },
  {
   "cell_type": "code",
   "execution_count": 244,
   "id": "f9fb3b37-4a27-41f8-9179-4d6cbacb09b1",
   "metadata": {},
   "outputs": [
    {
     "data": {
      "text/plain": [
       "Text(0.5, 0, 'Edat')"
      ]
     },
     "execution_count": 244,
     "metadata": {},
     "output_type": "execute_result"
    },
    {
     "data": {
      "image/png": "[encoded data removed]",
      "text/plain": [
       "<Figure size 640x480 with 1 Axes>"
      ]
     },
     "metadata": {},
     "output_type": "display_data"
    }
   ],
   "source": [
    "#Analitem l'edat.\n",
    "\n",
    "g = sns.boxplot(data = df, x = 'age')\n",
    "g.set_title('Diagrama de caja')\n",
    "g.set_xlabel('Edat')"
   ]
  },
  {
   "cell_type": "markdown",
   "id": "b82970ef-929a-4e05-b43a-658d5b6e5337",
   "metadata": {},
   "source": [
    "Veiem que l'edad mitjana està entre 30 i 50 anys i que els casos atípics, que estàn molt per sobre, comencen aproximadament a partir dels 75 anys."
   ]
  },
  {
   "cell_type": "code",
   "execution_count": null,
   "id": "72cf848c-d702-4e3a-9194-ce25d5294221",
   "metadata": {},
   "outputs": [],
   "source": []
  }
 ],
 "metadata": {
  "kernelspec": {
   "display_name": "Python 3 (ipykernel)",
   "language": "python",
   "name": "python3"
  },
  "language_info": {
   "codemirror_mode": {
    "name": "ipython",
    "version": 3
   },
   "file_extension": ".py",
   "mimetype": "text/x-python",
   "name": "python",
   "nbconvert_exporter": "python",
   "pygments_lexer": "ipython3",
   "version": "3.12.7"
  }
 },
 "nbformat": 4,
 "nbformat_minor": 5
}
